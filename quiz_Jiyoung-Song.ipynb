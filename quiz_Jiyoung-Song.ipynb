{
 "cells": [
  {
   "cell_type": "markdown",
   "metadata": {},
   "source": [
    "# Python Quiz\n",
    "\n",
    "안녕하세요, 니트머스 지원을 환영합니다.\n",
    "\n",
    "개발자는 면접 전에 코딩 스타일을 보여주실 필요가 있습니다. 다음에 제시하는 간단한 문제를 Python 3.6+ 로 풀어주시기 바랍니다. 표준 라이브러리에 포함되지 않은 패키지들은 사용하실 수 없습니다. 테스트를 도식화하기 위한 목적이라면 NumPy 와 matplotlib 는 사용하셔도 됩니다. 이 파일을 수정하신 후에 입사 지원서와 함께 보내주시면 됩니다. 시간제한은 이 파일을 받으신 시점부터 72시간입니다.\n",
    "되도록 많은 문제에 대해 타인의 도움 없이 스스로 답을 제시하셔야 합니다.\n",
    "\n",
    "\n",
    "이 문제들 외에도 오픈 소스에 참여한 이력이 있거나 저희가 살펴볼 수 있는 직접 작성한 소스 코드가 있다면 도움이 됩니다. 저작권이나 기타의 이유로 공개할 수 없는 파일은 사양합니다. 파일을 첨부하시지는 말고, 공개 git 저장소의 링크만 주시면 됩니다."
   ]
  },
  {
   "cell_type": "markdown",
   "metadata": {},
   "source": [
    "## Problem\n",
    "\n",
    "다음 ``choice`` 함수는 *n* 개의 항목 중 하나를 임의로 선택하여 ``[0, n)`` 범위의 정수 인덱스를 반환하는 함수입니다. 인자 *weights* 는 양의 정수의 시퀀스인데, *i* 번 째 항목이 선택될 기회가 ``weights[i]`` 에 비례해야 합니다. *n* 은 ``len(weights)`` 입니다."
   ]
  },
  {
   "cell_type": "code",
   "execution_count": 1,
   "metadata": {
    "collapsed": true
   },
   "outputs": [],
   "source": [
    "import random\n",
    "\n",
    "def choice(weights):\n",
    "    return max((random.random() * w, i) for i, w in enumerate(weights))[1]"
   ]
  },
  {
   "cell_type": "markdown",
   "metadata": {},
   "source": [
    "하지만 이 함수는 *i* 번 째 항목이 선택될 기회가 ``weights[i]`` 에 비례한다는 조건을 만족하지 못합니다."
   ]
  },
  {
   "cell_type": "markdown",
   "metadata": {},
   "source": [
    "## Quiz 1\n",
    "\n"
   ]
  },
  {
   "cell_type": "markdown",
   "metadata": {},
   "source": [
    "``choice`` 함수가 이 조건을 만족하지 못함을 확인할 수 있는 테스트 케이스를 작성하십시오."
   ]
  },
  {
   "cell_type": "code",
   "execution_count": 124,
   "metadata": {},
   "outputs": [
    {
     "name": "stdout",
     "output_type": "stream",
     "text": [
      "(3.804825663511063, 3)\n"
     ]
    }
   ],
   "source": [
    "import random\n",
    "\n",
    "def choice(weights):\n",
    "    return max((random.random() * w, i) for i, w in enumerate(weights))\n",
    "\n",
    "weights = (1,2,3,4,5)\n",
    "\n",
    "print(choice(weights))"
   ]
  },
  {
   "cell_type": "markdown",
   "metadata": {},
   "source": [
    "## Quiz 2\n",
    "\n",
    "``choice`` 함수가 왜 올바로 동작하지 않는지 논술하십시오."
   ]
  },
  {
   "cell_type": "code",
   "execution_count": null,
   "metadata": {
    "collapsed": true
   },
   "outputs": [],
   "source": [
    "i번째 항목이 선택될 기회가 weights[i]에 비례하여 값이 나오기 위해서는 \n",
    "for문이 반복될 동안 랜덤 값은 고정되어 있고, i의 값만 바뀌어서 값이 나와야 하지만,\n",
    "for문이 반복될 동안 랜덤 값도 계속 바뀌기 때문에 i번째 항목이 선택될 기회가 weight[i]에 비례하지 않는다."
   ]
  },
  {
   "cell_type": "markdown",
   "metadata": {},
   "source": [
    "## Quiz 3\n",
    "\n"
   ]
  },
  {
   "cell_type": "markdown",
   "metadata": {},
   "source": [
    "올바로 동작하는 함수를 작성하십시오. 함수의 서명은 ``choice`` 와 같아야합니다."
   ]
  },
  {
   "cell_type": "code",
   "execution_count": 128,
   "metadata": {},
   "outputs": [
    {
     "name": "stdout",
     "output_type": "stream",
     "text": [
      "(3.075656245006858, 4)\n"
     ]
    }
   ],
   "source": [
    "import random\n",
    "\n",
    "number = random.random()\n",
    "\n",
    "def choice(weights):\n",
    "    return max((number * w, i) for i, w in enumerate(weights))\n",
    "\n",
    "weights = (1,2,3,4,5)\n",
    "\n",
    "print(choice(weights))"
   ]
  },
  {
   "cell_type": "markdown",
   "metadata": {},
   "source": [
    "## Quiz 4\n",
    "\n",
    "``choice`` 함수와 Quiz 3 에서 새로 작성한 함수의 시간 복잡도(time complexity)를 분석하십시오."
   ]
  },
  {
   "cell_type": "code",
   "execution_count": null,
   "metadata": {
    "collapsed": true
   },
   "outputs": [],
   "source": [
    "O(n) "
   ]
  },
  {
   "cell_type": "markdown",
   "metadata": {},
   "source": [
    "## Quiz 5\n",
    "\n",
    "이제 함수를 확장하여 한 번에 여러 개의 항목을 선택하도록 합시다. 다음과 같은 서명을 갖는 함수를 작성하십시오."
   ]
  },
  {
   "cell_type": "code",
   "execution_count": 137,
   "metadata": {
    "scrolled": false
   },
   "outputs": [
    {
     "name": "stdout",
     "output_type": "stream",
     "text": [
      "(0.9804986095817408, 4)\n"
     ]
    }
   ],
   "source": []
  },
  {
   "cell_type": "markdown",
   "metadata": {},
   "source": [
    "``weights`` 의 형과 의미는 ``choice`` 와 같고, ``k`` 는 한번에 선택할 항목의 수를 뜻합니다. 반환값은 정수 인덱스의 튜플인데, 같은 항목이 여러번 선택되지는 않아야합니다. "
   ]
  },
  {
   "cell_type": "markdown",
   "metadata": {},
   "source": [
    "## Quiz 6\n",
    "\n",
    "``choices`` 함수가 올바로 동작하는지 확인할 수 있는 테스트 케이스를 작성하십시오."
   ]
  },
  {
   "cell_type": "code",
   "execution_count": null,
   "metadata": {
    "collapsed": true
   },
   "outputs": [],
   "source": []
  }
 ],
 "metadata": {
  "kernelspec": {
   "display_name": "Python 3",
   "language": "python",
   "name": "python3"
  },
  "language_info": {
   "codemirror_mode": {
    "name": "ipython",
    "version": 3
   },
   "file_extension": ".py",
   "mimetype": "text/x-python",
   "name": "python",
   "nbconvert_exporter": "python",
   "pygments_lexer": "ipython3",
   "version": "3.7.3"
  }
 },
 "nbformat": 4,
 "nbformat_minor": 2
}
